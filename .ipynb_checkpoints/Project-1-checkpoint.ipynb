{
 "cells": [
  {
   "cell_type": "code",
   "execution_count": 2,
   "metadata": {
    "scrolled": true
   },
   "outputs": [
    {
     "data": {
      "text/html": [
       "<div>\n",
       "<style scoped>\n",
       "    .dataframe tbody tr th:only-of-type {\n",
       "        vertical-align: middle;\n",
       "    }\n",
       "\n",
       "    .dataframe tbody tr th {\n",
       "        vertical-align: top;\n",
       "    }\n",
       "\n",
       "    .dataframe thead th {\n",
       "        text-align: right;\n",
       "    }\n",
       "</style>\n",
       "<table border=\"1\" class=\"dataframe\">\n",
       "  <thead>\n",
       "    <tr style=\"text-align: right;\">\n",
       "      <th></th>\n",
       "      <th>Unnamed: 0</th>\n",
       "      <th>ID</th>\n",
       "      <th>Source</th>\n",
       "      <th>TMC</th>\n",
       "      <th>Severity</th>\n",
       "      <th>Start_Time</th>\n",
       "      <th>End_Time</th>\n",
       "      <th>Start_Lat</th>\n",
       "      <th>Start_Lng</th>\n",
       "      <th>End_Lat</th>\n",
       "      <th>...</th>\n",
       "      <th>Roundabout</th>\n",
       "      <th>Station</th>\n",
       "      <th>Stop</th>\n",
       "      <th>Traffic_Calming</th>\n",
       "      <th>Traffic_Signal</th>\n",
       "      <th>Turning_Loop</th>\n",
       "      <th>Sunrise_Sunset</th>\n",
       "      <th>Civil_Twilight</th>\n",
       "      <th>Nautical_Twilight</th>\n",
       "      <th>Astronomical_Twilight</th>\n",
       "    </tr>\n",
       "  </thead>\n",
       "  <tbody>\n",
       "    <tr>\n",
       "      <th>0</th>\n",
       "      <td>512402</td>\n",
       "      <td>A-512403</td>\n",
       "      <td>MapQuest</td>\n",
       "      <td>241.0</td>\n",
       "      <td>3</td>\n",
       "      <td>2019-03-03 18:18:55</td>\n",
       "      <td>2019-03-03 18:48:19</td>\n",
       "      <td>35.241394</td>\n",
       "      <td>-80.850349</td>\n",
       "      <td>NaN</td>\n",
       "      <td>...</td>\n",
       "      <td>False</td>\n",
       "      <td>False</td>\n",
       "      <td>False</td>\n",
       "      <td>False</td>\n",
       "      <td>False</td>\n",
       "      <td>False</td>\n",
       "      <td>Day</td>\n",
       "      <td>Day</td>\n",
       "      <td>Day</td>\n",
       "      <td>Day</td>\n",
       "    </tr>\n",
       "    <tr>\n",
       "      <th>1</th>\n",
       "      <td>513350</td>\n",
       "      <td>A-513351</td>\n",
       "      <td>MapQuest</td>\n",
       "      <td>201.0</td>\n",
       "      <td>3</td>\n",
       "      <td>2019-03-04 04:50:16</td>\n",
       "      <td>2019-03-04 05:19:52</td>\n",
       "      <td>35.673294</td>\n",
       "      <td>-80.856918</td>\n",
       "      <td>NaN</td>\n",
       "      <td>...</td>\n",
       "      <td>False</td>\n",
       "      <td>False</td>\n",
       "      <td>False</td>\n",
       "      <td>False</td>\n",
       "      <td>False</td>\n",
       "      <td>False</td>\n",
       "      <td>Night</td>\n",
       "      <td>Night</td>\n",
       "      <td>Night</td>\n",
       "      <td>Night</td>\n",
       "    </tr>\n",
       "    <tr>\n",
       "      <th>2</th>\n",
       "      <td>513351</td>\n",
       "      <td>A-513352</td>\n",
       "      <td>MapQuest</td>\n",
       "      <td>201.0</td>\n",
       "      <td>2</td>\n",
       "      <td>2019-03-04 05:12:57</td>\n",
       "      <td>2019-03-04 05:42:43</td>\n",
       "      <td>35.080902</td>\n",
       "      <td>-80.850151</td>\n",
       "      <td>NaN</td>\n",
       "      <td>...</td>\n",
       "      <td>False</td>\n",
       "      <td>False</td>\n",
       "      <td>False</td>\n",
       "      <td>False</td>\n",
       "      <td>True</td>\n",
       "      <td>False</td>\n",
       "      <td>Night</td>\n",
       "      <td>Night</td>\n",
       "      <td>Night</td>\n",
       "      <td>Night</td>\n",
       "    </tr>\n",
       "    <tr>\n",
       "      <th>3</th>\n",
       "      <td>513352</td>\n",
       "      <td>A-513353</td>\n",
       "      <td>MapQuest</td>\n",
       "      <td>201.0</td>\n",
       "      <td>2</td>\n",
       "      <td>2019-03-04 05:37:25</td>\n",
       "      <td>2019-03-04 06:07:10</td>\n",
       "      <td>35.202320</td>\n",
       "      <td>-80.832909</td>\n",
       "      <td>NaN</td>\n",
       "      <td>...</td>\n",
       "      <td>False</td>\n",
       "      <td>False</td>\n",
       "      <td>False</td>\n",
       "      <td>False</td>\n",
       "      <td>False</td>\n",
       "      <td>False</td>\n",
       "      <td>Night</td>\n",
       "      <td>Night</td>\n",
       "      <td>Night</td>\n",
       "      <td>Day</td>\n",
       "    </tr>\n",
       "    <tr>\n",
       "      <th>4</th>\n",
       "      <td>513353</td>\n",
       "      <td>A-513354</td>\n",
       "      <td>MapQuest</td>\n",
       "      <td>201.0</td>\n",
       "      <td>2</td>\n",
       "      <td>2019-03-04 06:31:12</td>\n",
       "      <td>2019-03-04 07:01:00</td>\n",
       "      <td>35.252460</td>\n",
       "      <td>-80.643356</td>\n",
       "      <td>NaN</td>\n",
       "      <td>...</td>\n",
       "      <td>False</td>\n",
       "      <td>False</td>\n",
       "      <td>False</td>\n",
       "      <td>False</td>\n",
       "      <td>False</td>\n",
       "      <td>False</td>\n",
       "      <td>Night</td>\n",
       "      <td>Day</td>\n",
       "      <td>Day</td>\n",
       "      <td>Day</td>\n",
       "    </tr>\n",
       "  </tbody>\n",
       "</table>\n",
       "<p>5 rows × 50 columns</p>\n",
       "</div>"
      ],
      "text/plain": [
       "   Unnamed: 0        ID    Source    TMC  Severity           Start_Time  \\\n",
       "0      512402  A-512403  MapQuest  241.0         3  2019-03-03 18:18:55   \n",
       "1      513350  A-513351  MapQuest  201.0         3  2019-03-04 04:50:16   \n",
       "2      513351  A-513352  MapQuest  201.0         2  2019-03-04 05:12:57   \n",
       "3      513352  A-513353  MapQuest  201.0         2  2019-03-04 05:37:25   \n",
       "4      513353  A-513354  MapQuest  201.0         2  2019-03-04 06:31:12   \n",
       "\n",
       "              End_Time  Start_Lat  Start_Lng  End_Lat  ...  Roundabout  \\\n",
       "0  2019-03-03 18:48:19  35.241394 -80.850349      NaN  ...       False   \n",
       "1  2019-03-04 05:19:52  35.673294 -80.856918      NaN  ...       False   \n",
       "2  2019-03-04 05:42:43  35.080902 -80.850151      NaN  ...       False   \n",
       "3  2019-03-04 06:07:10  35.202320 -80.832909      NaN  ...       False   \n",
       "4  2019-03-04 07:01:00  35.252460 -80.643356      NaN  ...       False   \n",
       "\n",
       "   Station   Stop  Traffic_Calming Traffic_Signal Turning_Loop Sunrise_Sunset  \\\n",
       "0    False  False            False          False        False            Day   \n",
       "1    False  False            False          False        False          Night   \n",
       "2    False  False            False           True        False          Night   \n",
       "3    False  False            False          False        False          Night   \n",
       "4    False  False            False          False        False          Night   \n",
       "\n",
       "  Civil_Twilight Nautical_Twilight Astronomical_Twilight  \n",
       "0            Day               Day                   Day  \n",
       "1          Night             Night                 Night  \n",
       "2          Night             Night                 Night  \n",
       "3          Night             Night                   Day  \n",
       "4            Day               Day                   Day  \n",
       "\n",
       "[5 rows x 50 columns]"
      ]
     },
     "execution_count": 2,
     "metadata": {},
     "output_type": "execute_result"
    }
   ],
   "source": [
    "import matplotlib.pyplot as plt\n",
    "import pandas as pd\n",
    "import numpy as np\n",
    "import requests\n",
    "import time\n",
    "\n",
    "nc_df = pd.read_csv(\"Resources/NC-Accidents.csv\")\n",
    "nc_df.head()"
   ]
  },
  {
   "cell_type": "code",
   "execution_count": 3,
   "metadata": {},
   "outputs": [],
   "source": [
    "nc_df = nc_df.drop(columns={\"TMC\",\"Timezone\",\"Wind_Speed(mph)\",\n",
    "                    \"Wind_Direction\",\"End_Lat\",\"End_Lng\",\"Number\",\n",
    "                   \"State\",\"Country\",\"Zipcode\",\"Airport_Code\",\"Wind_Chill(F)\",\n",
    "                   \"Precipitation(in)\"})"
   ]
  },
  {
   "cell_type": "code",
   "execution_count": 4,
   "metadata": {},
   "outputs": [],
   "source": [
    "nc_df = nc_df.dropna()"
   ]
  },
  {
   "cell_type": "code",
   "execution_count": 5,
   "metadata": {
    "scrolled": true
   },
   "outputs": [
    {
     "data": {
      "text/plain": [
       "Unnamed: 0               107616\n",
       "ID                       107616\n",
       "Source                   107616\n",
       "Severity                 107616\n",
       "Start_Time               107616\n",
       "End_Time                 107616\n",
       "Start_Lat                107616\n",
       "Start_Lng                107616\n",
       "Distance(mi)             107616\n",
       "Description              107616\n",
       "Street                   107616\n",
       "Side                     107616\n",
       "City                     107616\n",
       "County                   107616\n",
       "Weather_Timestamp        107616\n",
       "Temperature(F)           107616\n",
       "Humidity(%)              107616\n",
       "Pressure(in)             107616\n",
       "Visibility(mi)           107616\n",
       "Weather_Condition        107616\n",
       "Amenity                  107616\n",
       "Bump                     107616\n",
       "Crossing                 107616\n",
       "Give_Way                 107616\n",
       "Junction                 107616\n",
       "No_Exit                  107616\n",
       "Railway                  107616\n",
       "Roundabout               107616\n",
       "Station                  107616\n",
       "Stop                     107616\n",
       "Traffic_Calming          107616\n",
       "Traffic_Signal           107616\n",
       "Turning_Loop             107616\n",
       "Sunrise_Sunset           107616\n",
       "Civil_Twilight           107616\n",
       "Nautical_Twilight        107616\n",
       "Astronomical_Twilight    107616\n",
       "dtype: int64"
      ]
     },
     "execution_count": 5,
     "metadata": {},
     "output_type": "execute_result"
    }
   ],
   "source": [
    "nc_df.count()"
   ]
  },
  {
   "cell_type": "code",
   "execution_count": 6,
   "metadata": {},
   "outputs": [
    {
     "data": {
      "text/plain": [
       "Amenity             1607\n",
       "Bump                  14\n",
       "Crossing            9421\n",
       "Give_Way             411\n",
       "Junction            4656\n",
       "No_Exit              201\n",
       "Railway             1473\n",
       "Roundabout             5\n",
       "Station              619\n",
       "Stop                 777\n",
       "Traffic_Calming       23\n",
       "Traffic_Signal     28178\n",
       "Turning_Loop           0\n",
       "dtype: int64"
      ]
     },
     "execution_count": 6,
     "metadata": {},
     "output_type": "execute_result"
    }
   ],
   "source": [
    "bool_col=[col for col in nc_df.columns if nc_df[col].dtype ==np.dtype('bool')]\n",
    "traffic_object_df= nc_df[bool_col]\n",
    "traffic_objects=traffic_object_df.sum(axis=0)\n",
    "traffic_objects"
   ]
  },
  {
   "cell_type": "code",
   "execution_count": 7,
   "metadata": {},
   "outputs": [
    {
     "data": {
      "text/plain": [
       "Text(0.5, 1.0, 'Proximity to Traffic Object')"
      ]
     },
     "execution_count": 7,
     "metadata": {},
     "output_type": "execute_result"
    },
    {
     "data": {
      "image/png": "[encoded data removed]",
      "text/plain": [
       "<Figure size 936x936 with 1 Axes>"
      ]
     },
     "metadata": {},
     "output_type": "display_data"
    }
   ],
   "source": [
    "traffic_objects.plot.pie(figsize=(13,13))\n",
    "plt.ylabel('')\n",
    "plt.title('Proximity to Traffic Object')"
   ]
  },
  {
   "cell_type": "code",
   "execution_count": null,
   "metadata": {},
   "outputs": [],
   "source": []
  }
 ],
 "metadata": {
  "kernelspec": {
   "display_name": "Python 3",
   "language": "python",
   "name": "python3"
  },
  "language_info": {
   "codemirror_mode": {
    "name": "ipython",
    "version": 3
   },
   "file_extension": ".py",
   "mimetype": "text/x-python",
   "name": "python",
   "nbconvert_exporter": "python",
   "pygments_lexer": "ipython3",
   "version": "3.7.3"
  }
 },
 "nbformat": 4,
 "nbformat_minor": 2
}
